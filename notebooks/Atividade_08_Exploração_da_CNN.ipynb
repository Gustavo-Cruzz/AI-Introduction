{
  "nbformat": 4,
  "nbformat_minor": 0,
  "metadata": {
    "colab": {
      "name": "Atividade 08 - Exploração da CNN.ipynb",
      "provenance": [],
      "collapsed_sections": []
    },
    "kernelspec": {
      "display_name": "Python 3",
      "name": "python3"
    }
  },
  "cells": [
    {
      "cell_type": "markdown",
      "source": [
        "#Capacitação Vialab # Atividade 8\n",
        "##Exploração de rede CNN\n",
        "###Data de atualização: 27/01/2022\n",
        "\n",
        "#Objetivo: Entender o funcionamento e desenvolver habilidades de produzir modelo de classificação usando a CNN"
      ],
      "metadata": {
        "id": "z9tj5rLCy42F"
      }
    },
    {
      "cell_type": "markdown",
      "metadata": {
        "id": "WkDzxZhCC3ej"
      },
      "source": [
        "# Atividade 08: Exploração de rede CNN.\n",
        "\n",
        "Objetivos: \n",
        "\n",
        "1) Explorar o código.\n",
        "\n",
        "2) Comentar o que é feito em cada etapa (exceto imports).\n",
        "\n",
        "3) Desenvolver um modelo próprio visando 70% de accurácia.\n",
        "\n",
        "4) Entender o por quê de cada processo.\n",
        "\n",
        "5) Explicar se houve under/overfitting ou não.\n"
      ]
    },
    {
      "cell_type": "code",
      "metadata": {
        "id": "RbL9QCbNUDBr"
      },
      "source": [
        "# Importa os arquivos necessários\n",
        "import matplotlib.pyplot as plt\n",
        "import timeit\n",
        "import keras.layers as kl\n",
        "import numpy as np\n",
        "import pandas as pd\n",
        "import tensorflow\n",
        "from sklearn.metrics import classification_report\n",
        "from keras import Sequential\n",
        "from keras.utils import np_utils\n",
        "from tensorflow import keras\n",
        "from keras.datasets import cifar10, mnist\n",
        "from keras.models import Model\n",
        "from collections import Counter\n",
        "from keras.backend import clear_session\n",
        "from sklearn.model_selection import KFold\n",
        "from keras.preprocessing.image import ImageDataGenerator"
      ],
      "execution_count": null,
      "outputs": []
    },
    {
      "cell_type": "code",
      "metadata": {
        "id": "5sBkqzpZWZqf"
      },
      "source": [
        "(x_train, y_train), (x_test, y_test) = cifar10.load_data()"
      ],
      "execution_count": null,
      "outputs": []
    },
    {
      "cell_type": "code",
      "metadata": {
        "id": "aEB1hfffWbbK"
      },
      "source": [
        "plt.figure(figsize=(10,10))\n",
        "for i in range(9):\n",
        "  plt.subplot(330 + 1 + i)\n",
        "  plt.imshow(x_train[i])\n",
        "\n",
        "plt.show()"
      ],
      "execution_count": null,
      "outputs": []
    },
    {
      "cell_type": "code",
      "metadata": {
        "id": "cjbKJWs8ZWT_"
      },
      "source": [
        "y_train = y_train.reshape(-1)\n",
        "y_test = y_test.reshape(-1)"
      ],
      "execution_count": null,
      "outputs": []
    },
    {
      "cell_type": "code",
      "metadata": {
        "id": "2eNt4vrjWcIu"
      },
      "source": [
        "plt.figure(figsize=(15,5))\n",
        "plt.bar(Counter(y_test).keys(), Counter(y_test).values(), align='center', alpha=0.5)\n",
        "plt.ylabel('Instancias')\n",
        "plt.xlabel('Classe')\n",
        "plt.title('Instancias por classe')\n",
        "plt.show()"
      ],
      "execution_count": null,
      "outputs": []
    },
    {
      "cell_type": "code",
      "metadata": {
        "id": "L-LI-Cn1bpct"
      },
      "source": [
        "print(x_train.shape)\n",
        "print(y_train.shape)"
      ],
      "execution_count": null,
      "outputs": []
    },
    {
      "cell_type": "code",
      "metadata": {
        "id": "yxnhlYqXWdLW"
      },
      "source": [
        "x_train = x_train.astype('float32')\n",
        "x_test = x_test.astype('float32')\n",
        "\n",
        "x_train /= 255\n",
        "x_test /= 255\n",
        "\n",
        "print(x_train.shape[0], 'train samples')\n",
        "print(x_test.shape[0], 'test samples')"
      ],
      "execution_count": null,
      "outputs": []
    },
    {
      "cell_type": "code",
      "metadata": {
        "id": "2K-xMHSdYn0r"
      },
      "source": [
        "num_classes = len(Counter(y_test))"
      ],
      "execution_count": null,
      "outputs": []
    },
    {
      "cell_type": "code",
      "metadata": {
        "id": "PzkRqN8wYZCD"
      },
      "source": [
        "y_train = np_utils.to_categorical(y_train, num_classes)\n",
        "y_test = np_utils.to_categorical(y_test, num_classes)"
      ],
      "execution_count": null,
      "outputs": []
    },
    {
      "cell_type": "code",
      "metadata": {
        "id": "MZijk9g8WeE-"
      },
      "source": [
        "#Criando o modelo \n",
        "\n",
        "def get_model(nb_classes = , input_shape = ()):\n",
        "  clear_session()\n",
        "\n",
        "  model = Sequential()\n",
        "  \n",
        "  #Escrevam o modelo aqui\n",
        "  #Recomendamos o uso de camadas de Pooling junto com as Convolucionais\n",
        "\n",
        "\n",
        "\n",
        "  model.summary()\n",
        "\n",
        "\n",
        "  model.compile(loss='categorical_crossentropy',\n",
        "                optimizer='adam', \n",
        "                metrics=['accuracy'])\n",
        "\n",
        "  # Retornando o modelo\n",
        "  return model"
      ],
      "execution_count": null,
      "outputs": []
    },
    {
      "cell_type": "code",
      "metadata": {
        "id": "VmSADxTdeClC"
      },
      "source": [
        "model = get_model(num_classes, x_test.shape[1:])\n",
        "plot_model(model, show_dtype=True, show_shapes=True, show_layer_names=True)"
      ],
      "execution_count": null,
      "outputs": []
    },
    {
      "cell_type": "code",
      "metadata": {
        "id": "iMbz34WLWghG"
      },
      "source": [
        "start = timeit.default_timer()\n",
        "\n",
        "\n",
        "\n",
        "hist = model.fit()\n",
        "\n",
        "\n",
        "\n",
        "\n",
        "stop = timeit.default_timer()\n",
        "\n",
        "print('Tempo: ', stop - start)  "
      ],
      "execution_count": null,
      "outputs": []
    },
    {
      "cell_type": "code",
      "metadata": {
        "id": "hxbGfFL-VKFJ"
      },
      "source": [
        "acc = hist.history['accuracy']\n",
        "val_acc = hist.history['val_accuracy']\n",
        "\n",
        "loss = hist.history['loss']\n",
        "val_loss = hist.history['val_loss']\n",
        "\n",
        "epochs_range = range(epochs)\n",
        "\n",
        "plt.figure(figsize=(8, 8))\n",
        "plt.subplot(1, 2, 1)\n",
        "plt.plot(epochs_range, acc, label='Training Accuracy')\n",
        "plt.plot(epochs_range, val_acc, label='Validation Accuracy')\n",
        "plt.legend(loc='lower right')\n",
        "plt.title('Training and Validation Accuracy')\n",
        "\n",
        "plt.subplot(1, 2, 2)\n",
        "plt.plot(epochs_range, loss, label='Training Loss')\n",
        "plt.plot(epochs_range, val_loss, label='Validation Loss')\n",
        "plt.legend(loc='upper right')\n",
        "plt.title('Training and Validation Loss')\n",
        "plt.show()"
      ],
      "execution_count": null,
      "outputs": []
    },
    {
      "cell_type": "code",
      "metadata": {
        "id": "J_cQIgW3ZHKO"
      },
      "source": [
        "# Final evaluation of the model\n",
        "scores = model.evaluate(x_test, y_test, verbose=0)\n",
        "\n",
        "# Gráfico de loss\n",
        "plt.figure(figsize=(10,8))\n",
        "plt.title(f\"Gráfico de Loss - {scores[0]}\")\n",
        "plt.xlabel(\"Épocas\")\n",
        "plt.ylabel(\"Valor\")\n",
        "plt.plot(hist.history['loss'], label=\"loss\")\n",
        "plt.plot(hist.history['val_loss'], label=\"val_loss\")\n",
        "plt.legend()\n",
        "plt.show()\n",
        "\n",
        "# Gráfico de acurácia\n",
        "plt.figure(figsize=(10,8))\n",
        "plt.title(f\"Gráfico de Acurácia - {scores[1]}\")\n",
        "plt.xlabel(\"Épocas\")\n",
        "plt.ylabel(\"Valor\")\n",
        "plt.plot(hist.history['accuracy'], label=\"accuracy\")\n",
        "plt.plot(hist.history['val_accuracy'], label=\"val_accuracy\")\n",
        "plt.legend()\n",
        "plt.show()"
      ],
      "execution_count": null,
      "outputs": []
    },
    {
      "cell_type": "code",
      "metadata": {
        "id": "Whxm8Ce-Whad"
      },
      "source": [
        "scores = model.evaluate(x_test, y_test, verbose=0)"
      ],
      "execution_count": null,
      "outputs": []
    },
    {
      "cell_type": "code",
      "metadata": {
        "id": "2zO7S2jOWj2O"
      },
      "source": [
        "print(\"Loss = %.2f, Accuracy = %.2f\" %(scores[0], scores[1]))"
      ],
      "execution_count": null,
      "outputs": []
    },
    {
      "cell_type": "code",
      "metadata": {
        "id": "sBfSqnpy2-Dg"
      },
      "source": [
        "pred = model.predict(x_test)\n",
        "pred = np.argmax(pred, axis=1)\n",
        "\n",
        "y_test = np.argmax(y_test, axis = 1)\n",
        "\n",
        "\n",
        "print(classification_report(y_test, pred))"
      ],
      "execution_count": null,
      "outputs": []
    },
    {
      "cell_type": "code",
      "metadata": {
        "id": "-JaEnPfu7ZQl"
      },
      "source": [
        "data = {'y_test':    y_test,\n",
        "        'pred': pred\n",
        "        }\n",
        "\n",
        "df = pd.DataFrame(data, columns=['y_test','pred'])\n",
        "\n",
        "matriz = pd.crosstab(df['y_test'], df['pred'], rownames=['Realidade'], colnames=['Predições'])\n",
        "print(matriz)"
      ],
      "execution_count": null,
      "outputs": []
    }
  ]
}