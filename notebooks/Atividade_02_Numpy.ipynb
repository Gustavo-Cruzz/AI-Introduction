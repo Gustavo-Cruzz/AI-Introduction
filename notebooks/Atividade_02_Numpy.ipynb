{
  "nbformat": 4,
  "nbformat_minor": 0,
  "metadata": {
    "colab": {
      "name": "Atividade 02 - Numpy",
      "provenance": [],
      "collapsed_sections": []
    },
    "kernelspec": {
      "name": "python3",
      "display_name": "Python 3"
    },
    "language_info": {
      "name": "python"
    }
  },
  "cells": [
    {
      "cell_type": "markdown",
      "source": [
        "# Capacitação Vialab  # Atividade 2\n",
        "\n",
        "## Exercícios para o treinamento de Numpy\n",
        "### Data de atualização: 04/02/2022\n",
        "\n",
        "# Objetivo: Enter o funcionamento básico da biblioteca numpy"
      ],
      "metadata": {
        "id": "DOWtR4CTIpg5"
      }
    },
    {
      "cell_type": "markdown",
      "source": [
        "A biblioteca Numpy suporta a liguagem Python, auxiliando no processamento e arranjo de grandes arrays e matrizes. Além disso, o NP também disponibiliza grande quantidade de funções matemáticas."
      ],
      "metadata": {
        "id": "T7qKSImXLqJa"
      }
    },
    {
      "cell_type": "code",
      "execution_count": null,
      "metadata": {
        "id": "IHO_uwRh2o3r"
      },
      "outputs": [],
      "source": [
        "# Importação da biblioteca\n",
        "import numpy as np"
      ]
    },
    {
      "cell_type": "markdown",
      "source": [
        "## Alguns exemplos do que podemos realizar com o Numpy "
      ],
      "metadata": {
        "id": "ypPYKZA2Lgj5"
      }
    },
    {
      "cell_type": "code",
      "source": [
        "# Convertendo para Numpy array\n",
        "arr = np.array([1, 2, 3])\n",
        "arr"
      ],
      "metadata": {
        "colab": {
          "base_uri": "https://localhost:8080/"
        },
        "id": "JDt6jCKB3tFG",
        "outputId": "d692ade4-9cd0-4cb9-8c28-389cdbd7d737"
      },
      "execution_count": null,
      "outputs": [
        {
          "output_type": "execute_result",
          "data": {
            "text/plain": [
              "array([1, 2, 3])"
            ]
          },
          "metadata": {},
          "execution_count": 5
        }
      ]
    },
    {
      "cell_type": "code",
      "source": [
        "# Convertendo o número para Float 32\n",
        "np.float32(345.8)"
      ],
      "metadata": {
        "colab": {
          "base_uri": "https://localhost:8080/"
        },
        "id": "omJJKQjg6CZ5",
        "outputId": "977ec4aa-f620-4420-c4c0-61eace161d79"
      },
      "execution_count": null,
      "outputs": [
        {
          "output_type": "execute_result",
          "data": {
            "text/plain": [
              "345.8"
            ]
          },
          "metadata": {},
          "execution_count": 3
        }
      ]
    },
    {
      "cell_type": "code",
      "source": [
        "# Exibindo o tipo do dado\n",
        "arr.dtype"
      ],
      "metadata": {
        "colab": {
          "base_uri": "https://localhost:8080/"
        },
        "id": "PBL1ayz88HoP",
        "outputId": "07b43384-c501-4e04-a089-1cb92038d970"
      },
      "execution_count": null,
      "outputs": [
        {
          "output_type": "execute_result",
          "data": {
            "text/plain": [
              "dtype('int64')"
            ]
          },
          "metadata": {},
          "execution_count": 11
        }
      ]
    },
    {
      "cell_type": "code",
      "source": [
        "# Convertendo os números que compõem o array para float\n",
        "np.array([1, 2, 3], dtype='f')"
      ],
      "metadata": {
        "colab": {
          "base_uri": "https://localhost:8080/"
        },
        "id": "raP-VA1r8BO_",
        "outputId": "34d03142-6fe1-452c-ef95-6266802452df"
      },
      "execution_count": null,
      "outputs": [
        {
          "output_type": "execute_result",
          "data": {
            "text/plain": [
              "array([1., 2., 3.], dtype=float32)"
            ]
          },
          "metadata": {},
          "execution_count": 9
        }
      ]
    },
    {
      "cell_type": "markdown",
      "source": [
        "# Exercícios de apredizagem\n",
        "\n",
        "1) Crie um array com uma dimensão (1D) com o pacote numpy.\n",
        "\n",
        "\n",
        "2) Crie um array 5x5 utilizado numpy.\n",
        "\n",
        "\n",
        "3) Converta o array criado no exercíco de 1D para 2D.\n",
        "\n",
        "\n",
        "4) Gere 2 array aleatório 3x4 e veja se há elementos em comum entre eles utilizando funções Numpy.\n",
        "\n",
        "5) Produza uma matriz 3x3 e insira uma condição.\n",
        "\n",
        "6) Elabore uma função no python que realize pelo menos 3 operações matemáticas com funções numpy.\n",
        "\n",
        "7) Crie duas matrizes, realize a multiplicação delas por meio de funções numpy e tente encontrar elemento em comum.\n",
        "\n",
        "8) Elabore dois arrays 1D e os concatene.\n",
        "\n",
        "9) Gere duas matrizes 5x5, uma de zeros(0) e outra de uns(1), utilizando apenas funções numpy. \n",
        "\n",
        "10) Gere um array 1D, realize as operações de seno e cosseno por meio de pacotes numpy e plot os resultados."
      ],
      "metadata": {
        "id": "FjE_rldb-lIq"
      }
    },
    {
      "cell_type": "markdown",
      "source": [
        "# Referências\n",
        "\n",
        "\n",
        "https://cs231n.github.io/python-numpy-tutorial/\n",
        "\n",
        "https://www.machinelearningplus.com/python/101-numpy-exercises-python/"
      ],
      "metadata": {
        "id": "37Lc06qyKb-c"
      }
    }
  ]
}