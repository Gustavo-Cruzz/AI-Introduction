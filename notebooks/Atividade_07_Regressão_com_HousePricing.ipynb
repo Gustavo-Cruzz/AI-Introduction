{
  "nbformat": 4,
  "nbformat_minor": 0,
  "metadata": {
    "colab": {
      "name": "Atividade 07: Regressão com HousePricing.ipynb",
      "provenance": [],
      "collapsed_sections": []
    },
    "kernelspec": {
      "name": "python3",
      "display_name": "Python 3"
    },
    "language_info": {
      "name": "python"
    }
  },
  "cells": [
    {
      "cell_type": "markdown",
      "source": [
        "##Capacitação Vialab 22 # Atividade 7\n",
        "\n",
        "## Problema de Regressão com HousePricing\n",
        "\n",
        "#### Data de atualização: 08/02/2022\n",
        "\n",
        "###Objetivo: Resolver problema de aprendizagem dos modelos"
      ],
      "metadata": {
        "id": "5YGzENQO2ZP5"
      }
    },
    {
      "cell_type": "markdown",
      "source": [
        "##Exercício de Regressão"
      ],
      "metadata": {
        "id": "ymB9wSbV2ysF"
      }
    },
    {
      "cell_type": "markdown",
      "source": [
        "Para realizar este exercício vamos usar dados do dataset House Pricing para realizar a construção do seu Primeiro Modelo de Regressão! "
      ],
      "metadata": {
        "id": "IfSMSCHk38RE"
      }
    },
    {
      "cell_type": "markdown",
      "source": [
        "Agora que vocês já trabalharam um pouco com modelos de classificação, iremos criar o nosso primeiro modelo de regressão!  \n",
        "Problemas de regressão ocorrem quando a variável de saída é um valor real ou contínuo, como \"salário\" ou \"peso\". Existem diversos modelos que aplicam regressão, a exemplo: Regressão Linear, Regressão Logística, Regressão SGD, etc."
      ],
      "metadata": {
        "id": "obQAnU77QYhb"
      }
    },
    {
      "cell_type": "markdown",
      "source": [
        "  Nesta atividade utilizaremos dois modelos: uma Árvore de Decisão de Regressão (Decision Tree Regressor) e um de Regressão Linear. Sendo, os dois de bibliotecas distintas.\n",
        "\n",
        "  As árvores de decisão são um método de aprendizagem supervisionada usadas tanto para regressão, quanto para classificação. Elas são simples de entendê-las e interpretá-las, além de poderem ser visualizadas.\n",
        "\n",
        "  Para entender um pouco mais das Árvores de Decisão veja sua [documentação](https://scikit-learn.org/stable/modules/tree.html#tree). \n",
        "\n",
        "  Para ler o artigo completo sobre a comparação entre alguns modelos de regressão em ML [clique aqui](https://towardsdatascience.com/comparative-study-on-classic-machine-learning-algorithms-24f9ff6ab222)."
      ],
      "metadata": {
        "id": "u5dgVy9uW3zv"
      }
    },
    {
      "cell_type": "markdown",
      "source": [
        "####Instalando dependências"
      ],
      "metadata": {
        "id": "17CZHvSr6JOv"
      }
    },
    {
      "cell_type": "markdown",
      "source": [
        "####Realizando a importação dos pacotes necessários"
      ],
      "metadata": {
        "id": "kqtCVnUK5dSt"
      }
    },
    {
      "cell_type": "code",
      "execution_count": null,
      "metadata": {
        "id": "XdLxkmfA1g5L"
      },
      "outputs": [],
      "source": [
        "import pandas as pd # análise dos dados\n",
        "from sklearn.tree import DecisionTreeRegressor, plot_tree # modelo da árvore de regressão e sua visualização\n",
        "from sklearn.model_selection import train_test_split # dividindo o dataset em treino e validação\n",
        "from sklearn.metrics import mean_absolute_error # erro absoluto para a validação do modelo da árvore\n",
        "\n",
        "import tensorflow as tf # biblioteca para a geração do modelo de regressão\n",
        "from tensorflow.keras import layers, Sequential, optimizers\n",
        "\n",
        "import matplotlib.pyplot as plt #Biblioteca para plot de gráficos\n",
        "import seaborn as sns #Realiza a estilização dos gráficos\n",
        "\n",
        "from google.colab import files # upload dos arquivos"
      ]
    },
    {
      "cell_type": "markdown",
      "source": [
        "###Dataset\n",
        "\n",
        "  O dataset que trabalharemos será o House Pricing, muito conhecido em ML, o qual faz parte da competição do Kaggle \"House Prices: Advanced Regression Techniques\". \n",
        "  Ele contém 1460 dados de treino e 80 colunas."
      ],
      "metadata": {
        "id": "VkPyx5g3HO7j"
      }
    },
    {
      "cell_type": "markdown",
      "source": [
        "#####Realizando o upload dos dados"
      ],
      "metadata": {
        "id": "FY3GfG8S8mka"
      }
    },
    {
      "cell_type": "code",
      "source": [
        "files.upload() #treino"
      ],
      "metadata": {
        "id": "szRSAOsD97YY"
      },
      "execution_count": null,
      "outputs": []
    },
    {
      "cell_type": "code",
      "source": [
        "files.upload() #teste"
      ],
      "metadata": {
        "id": "yOtVwBjn_AOH"
      },
      "execution_count": null,
      "outputs": []
    },
    {
      "cell_type": "markdown",
      "source": [
        "######Lendo dados"
      ],
      "metadata": {
        "id": "fNRc3TOe_Tr0"
      }
    },
    {
      "cell_type": "code",
      "source": [
        "train_file_path = '/content/train.csv'\n",
        "test_file_path = '/content/test.csv'\n",
        "\n",
        "train_data = pd.read_csv(train_file_path)\n",
        "test_data = pd.read_csv(test_file_path)"
      ],
      "metadata": {
        "id": "TBvi-KcH_V18"
      },
      "execution_count": null,
      "outputs": []
    },
    {
      "cell_type": "markdown",
      "source": [
        "###Visualizando os dados carregados"
      ],
      "metadata": {
        "id": "3sZXM7-DZvTj"
      }
    },
    {
      "cell_type": "markdown",
      "source": [
        "####Visualizando dataframes"
      ],
      "metadata": {
        "id": "A5yS29-FAdkR"
      }
    },
    {
      "cell_type": "code",
      "source": [
        "train_data.head()"
      ],
      "metadata": {
        "id": "U9R1Qm3YARJL"
      },
      "execution_count": null,
      "outputs": []
    },
    {
      "cell_type": "code",
      "source": [
        "test_data.head()"
      ],
      "metadata": {
        "id": "-7dUUXkEAWC1"
      },
      "execution_count": null,
      "outputs": []
    },
    {
      "cell_type": "markdown",
      "source": [
        "####Visualizando os nomes dos atributos do dataset"
      ],
      "metadata": {
        "id": "WHYvm2OQO5x0"
      }
    },
    {
      "cell_type": "code",
      "source": [
        "print(train_data._____)"
      ],
      "metadata": {
        "id": "rdq0nylKO9MU"
      },
      "execution_count": null,
      "outputs": []
    },
    {
      "cell_type": "code",
      "source": [
        "print(test_data._______)"
      ],
      "metadata": {
        "id": "kQeOs0oDPCuC"
      },
      "execution_count": null,
      "outputs": []
    },
    {
      "cell_type": "markdown",
      "source": [
        "####Representação gráfica dos dados\n",
        "\n",
        "  É sempre bom antes de iniciarmos a criação do modelo, analisarmos um pouco mais os dados os quais serão trabalhados. \n",
        "\n",
        "  Para isso, é sugerível a criação de um (ou mais) gráfico(s). "
      ],
      "metadata": {
        "id": "Dx6q3C_Ia2Eo"
      }
    },
    {
      "cell_type": "markdown",
      "source": [
        "Verifique a correlação entre os atributos do dataset."
      ],
      "metadata": {
        "id": "jKfzqFqnblZy"
      }
    },
    {
      "cell_type": "code",
      "source": [
        "correlation = train_data_____"
      ],
      "metadata": {
        "id": "6QxnaSrRbxbH"
      },
      "execution_count": null,
      "outputs": []
    },
    {
      "cell_type": "code",
      "source": [
        "plt.subplots(figsize=(25,20))\n"
      ],
      "metadata": {
        "id": "DrAFmRuDQGsh"
      },
      "execution_count": null,
      "outputs": []
    },
    {
      "cell_type": "markdown",
      "source": [
        "Construa um scatter plot entre o preço e alguns atributos."
      ],
      "metadata": {
        "id": "RS_c9w2FbR8n"
      }
    },
    {
      "cell_type": "code",
      "source": [
        ""
      ],
      "metadata": {
        "id": "X8aL9iBNa7H5"
      },
      "execution_count": null,
      "outputs": []
    },
    {
      "cell_type": "markdown",
      "source": [
        "####Dados ausentes\n",
        "\n",
        " Verifique quantos dados faltam em cada coluna dos dataframes"
      ],
      "metadata": {
        "id": "1auPpD3jZ2sb"
      }
    },
    {
      "cell_type": "code",
      "source": [
        "train_data._______"
      ],
      "metadata": {
        "id": "OzdseYXhZ-lz"
      },
      "execution_count": null,
      "outputs": []
    },
    {
      "cell_type": "code",
      "source": [
        "test_data.________"
      ],
      "metadata": {
        "id": "Y1DcS1u8aK-s"
      },
      "execution_count": null,
      "outputs": []
    },
    {
      "cell_type": "markdown",
      "source": [
        "#### Coluna de target"
      ],
      "metadata": {
        "id": "kT8vIqA9AcSv"
      }
    },
    {
      "cell_type": "markdown",
      "source": [
        "#####Tendo conhecimento sobre os preços\n",
        "\n",
        "  Aproveite essa etapa para ter uma noção dos valores das casas presentes no dataset. Verifique o somatório, média e seus quartis."
      ],
      "metadata": {
        "id": "pbDx9iu4ZdNm"
      }
    },
    {
      "cell_type": "code",
      "source": [
        "print(train_data._____)"
      ],
      "metadata": {
        "id": "mnfRgsgsZnmL"
      },
      "execution_count": null,
      "outputs": []
    },
    {
      "cell_type": "code",
      "source": [
        "train_data._______"
      ],
      "metadata": {
        "id": "z3UzhDRVac3W"
      },
      "execution_count": null,
      "outputs": []
    },
    {
      "cell_type": "markdown",
      "source": [
        "####Selecionando o target\n",
        "\n",
        "  Atribua a y a coluna com os valores da variável dependente."
      ],
      "metadata": {
        "id": "O9vCFCKNZrC1"
      }
    },
    {
      "cell_type": "code",
      "source": [
        "y = _______"
      ],
      "metadata": {
        "id": "4W2-yNN2BpLs"
      },
      "execution_count": null,
      "outputs": []
    },
    {
      "cell_type": "markdown",
      "source": [
        "####Separando dados de treino, validação e teste"
      ],
      "metadata": {
        "id": "YZ_Dwj5zCErY"
      }
    },
    {
      "cell_type": "markdown",
      "source": [
        "Nesse momento, você poderá brincar um pouco com quais atributos do dataset serão as variáveis independentes.\n",
        "\n",
        "  É interessante visualizar o quanto isso afetará no erro do modelo."
      ],
      "metadata": {
        "id": "gvWw5mU4aT-d"
      }
    },
    {
      "cell_type": "code",
      "source": [
        "feature_names = ________\n",
        "\n",
        "X = ______"
      ],
      "metadata": {
        "id": "KwQD6OKtE3t0"
      },
      "execution_count": null,
      "outputs": []
    },
    {
      "cell_type": "markdown",
      "source": [
        "Aqui realizaremos a separação do dataset de treino entre o que será treinado e validado pelo nosso modelo.\n",
        "\n",
        "Tente brincar um pouco com os parâmetros da função também e veja o quanto isso afetará no erro do modelo."
      ],
      "metadata": {
        "id": "JezIzY3xaqvb"
      }
    },
    {
      "cell_type": "code",
      "source": [
        "x_train, x_val, y_train, y_val = _______"
      ],
      "metadata": {
        "id": "lg9UTyUyEZHU"
      },
      "execution_count": null,
      "outputs": []
    },
    {
      "cell_type": "code",
      "source": [
        "x_test = _______"
      ],
      "metadata": {
        "id": "AS0OMt4pCD8k"
      },
      "execution_count": null,
      "outputs": []
    },
    {
      "cell_type": "markdown",
      "source": [
        "###Modelo da Árvore de Decisão"
      ],
      "metadata": {
        "id": "UrlAmU1zqHPO"
      }
    },
    {
      "cell_type": "markdown",
      "source": [
        "#### Criando modelo"
      ],
      "metadata": {
        "id": "T7P9drZ5DBtV"
      }
    },
    {
      "cell_type": "code",
      "source": [
        "model = _____________"
      ],
      "metadata": {
        "id": "89YdzIINDUjw"
      },
      "execution_count": null,
      "outputs": []
    },
    {
      "cell_type": "markdown",
      "source": [
        "####Treinando o modelo"
      ],
      "metadata": {
        "id": "wohzEyqADs9U"
      }
    },
    {
      "cell_type": "code",
      "source": [
        "model = model.fit(___, ___)"
      ],
      "metadata": {
        "id": "480asTiSDwEW"
      },
      "execution_count": null,
      "outputs": []
    },
    {
      "cell_type": "markdown",
      "source": [
        "####Realizando predições do modelo com os dados de validação"
      ],
      "metadata": {
        "id": "ZvKPeNl6J0kM"
      }
    },
    {
      "cell_type": "code",
      "source": [
        "val_predictions = "
      ],
      "metadata": {
        "id": "7RxYjiKaJ7b6"
      },
      "execution_count": null,
      "outputs": []
    },
    {
      "cell_type": "markdown",
      "source": [
        "####Visualizando as predições do modelo e as de validação"
      ],
      "metadata": {
        "id": "zADfR7UoDQm9"
      }
    },
    {
      "cell_type": "code",
      "source": [
        "print(val_predictions)\n",
        "print(y_val)"
      ],
      "metadata": {
        "id": "tAHTBkYqKqnU"
      },
      "execution_count": null,
      "outputs": []
    },
    {
      "cell_type": "markdown",
      "source": [
        "####Realizando a validação do modelo\n",
        "\n",
        "Para isso, utilizaremos a função MAE (Mean Absoluto Error ou Erro Médio Absoluto) "
      ],
      "metadata": {
        "id": "TJC8v8OnKwlk"
      }
    },
    {
      "cell_type": "markdown",
      "source": [
        "  O MAE pretende analisar apenas valores psoitivos ou absolutos. O seu principal objetivo é a análise do erro médio dos dados, não maximizando tanto os valores que estão distantes da média.\n",
        "\n",
        "  Veja mais sobre o Erro Médio Absoluto [aqui]().\n",
        "\n"
      ],
      "metadata": {
        "id": "0lOor1Hxb-er"
      }
    },
    {
      "cell_type": "code",
      "source": [
        "mae = mean_absolute_error(____, ____)\n",
        "\n",
        "print(mae)"
      ],
      "metadata": {
        "id": "Y8jefVZ4MZeU"
      },
      "execution_count": null,
      "outputs": []
    },
    {
      "cell_type": "markdown",
      "source": [
        "####Realizando o teste do modelo"
      ],
      "metadata": {
        "id": "n1bnPKSMN3jk"
      }
    },
    {
      "cell_type": "code",
      "source": [
        "predictions = ______\n",
        "\n",
        "print(predictions)"
      ],
      "metadata": {
        "id": "kPrLfJ_bN2tL"
      },
      "execution_count": null,
      "outputs": []
    },
    {
      "cell_type": "markdown",
      "source": [
        "####Visualizando o modelo gerado"
      ],
      "metadata": {
        "id": "qt9ACCFhdDGe"
      }
    },
    {
      "cell_type": "markdown",
      "source": [
        "Por fim, agora você poderá visualizar a árvore gerada. \n",
        "\n",
        "Também nesse momento, você poderá alterar os parâmetros de visualização da árvore.\n",
        "\n",
        "[API reference](https://scikit-learn.org/stable/modules/generated/sklearn.tree.plot_tree.html?highlight=plot_tree)"
      ],
      "metadata": {
        "id": "lCOWhasLdI8W"
      }
    },
    {
      "cell_type": "code",
      "source": [
        "plt.subplots(figsize=(25,20))\n",
        "plot_tree(model, feature_names=x_train.columns, class_names=y_train.values, max_depth=3, filled=True)\n",
        "plt.title('Decisio Tree regressor for House Pricing')\n",
        "plt.show()"
      ],
      "metadata": {
        "id": "h9Nc8JVQdZso"
      },
      "execution_count": null,
      "outputs": []
    },
    {
      "cell_type": "markdown",
      "source": [
        "###Modelo de Regressão TF"
      ],
      "metadata": {
        "id": "qv0xl4l9pWTb"
      }
    },
    {
      "cell_type": "markdown",
      "source": [
        "####Construindo o modelo"
      ],
      "metadata": {
        "id": "qihVeee6pZVL"
      }
    },
    {
      "cell_type": "markdown",
      "source": [
        "  De maneira diferente dos modelos do sklearn, os do TensorFlow possibilitam uma manipulação interna maior necessárias para a construção. É possível alterar a quantidade de camadas, a construção delas e seus neurônios.\n",
        "\n",
        "  Assim, iniciaremos criando um modelo com apenas uma camada.\n",
        "\n",
        "  Utilizaremos o método Sequential, do próprio Keras, que permite esse tipo de construção e uma camada densa com 64 neurônio e como parâmetro de entrada a quantidade de features selecionadas anteriormente (o array 'features_name') como entrada e 1 unidade de saída (o preço da casa predito).\n",
        "\n",
        "\n",
        "[Keras API](https://keras.io/api/)\n",
        "\n",
        "[TensorFlow API](https://www.tensorflow.org/api_docs/python/tf)\n"
      ],
      "metadata": {
        "id": "kx47ZbLdqFgL"
      }
    },
    {
      "cell_type": "code",
      "source": [
        "model = Sequential(\n",
        "        [\n",
        "         layers.Dense(units=64, activation = 'relu', input_shape=[len(feature_names)]),\n",
        "         layers.Dense(units=64, activation='relu'),\n",
        "         layers.Dense(units=1)\n",
        "        ]\n",
        "      )"
      ],
      "metadata": {
        "id": "R2e974DqpchS"
      },
      "execution_count": null,
      "outputs": []
    },
    {
      "cell_type": "markdown",
      "source": [
        "  Também diferente dos modelos do sklearn, é necessário compilarmos o modelo antes de treiná-lo. É nesse momento que passamos como parâmetro a função de regressão sendo o \"otimizador\" (optimizer) e a de \"perda\" (loss) a qual será utilizada na validação do modelo. \n",
        "\n",
        "  Enquanto a função de perda informa à nossa rede \"qual problema\" deve ser resolvido, logo problemas diferentes exigem funções distintas, os otimizadores são algoritmos que respondem a pergunta: \"como resolver o problema descrito?\", assim, os otimizadores ajustam os pesos para minimizar a 'perda' (loss).\n",
        "\n",
        "  Nesse momento também é interessante alterar esses parâmetros, verificando as funções de otimização e perda mais \"se combinam\" e produzem melhores resultados, sabendo das suas aplicabilidades (claro)!\n",
        "\n",
        "  [Guia de otimizadores TensorFlow](https://analyticsindiamag.com/guide-to-tensorflow-keras-optimizers/)\n",
        "\n",
        "  [Optimizers TensorFlow API](https://www.tensorflow.org/api_docs/python/tf/keras/optimizers)\n",
        "  \n",
        "  [Optimizers Keras API](https://keras.io/api/optimizers/)\n",
        "\n",
        "  [Guia de funções de perdas TensorFlow](https://www.tensorflow.org/api_docs/python/tf/keras/losses)\n",
        "\n",
        "  [Funções de perdas Keras](https://keras.io/api/losses/)\n",
        "\n"
      ],
      "metadata": {
        "id": "nu5VQFwmudGa"
      }
    },
    {
      "cell_type": "markdown",
      "source": [
        "  Problemas de regressão podem utilizar como funções de perda: MSE (Mean Squared Error) ou Erro Médio, MAE (Mean Absolute Error) ou Erro Médio Absoluto, etc.\n",
        "\n",
        "  Já como funções otimizadoras, uma das mais conhecidas é a Adam, que utiliza internamente, o SGD (Stochastic Gradient Descent), que é uma probabilística aproximação do Gradient Descent, que em cada passo, ele calcula o gradiente de uma observação aleatóriamente.\n",
        "\n",
        "  [Mais sobre SGD](https://towardsdatascience.com/stochastic-gradient-descent-clearly-explained-53d239905d31)\n",
        "  "
      ],
      "metadata": {
        "id": "4NFkrDDIwnPD"
      }
    },
    {
      "cell_type": "code",
      "source": [
        "model.compile(optimizer='adam', loss='mse', metrics=['mse', 'mae'])"
      ],
      "metadata": {
        "id": "JVi_XRfVtCin"
      },
      "execution_count": null,
      "outputs": []
    },
    {
      "cell_type": "markdown",
      "source": [
        "As epochs são o número de iterações que o modelo terá com o dataset durante o treino."
      ],
      "metadata": {
        "id": "M8IFMvXJxCGK"
      }
    },
    {
      "cell_type": "code",
      "source": [
        "epochs = 500\n",
        "history = model.fit(______, ______, validation_data=(____, ____), epochs=epochs)"
      ],
      "metadata": {
        "id": "z6DridNftGOS"
      },
      "execution_count": null,
      "outputs": []
    },
    {
      "cell_type": "markdown",
      "source": [
        "####Realizando o teste do modelo"
      ],
      "metadata": {
        "id": "kG_4PTm8yBf8"
      }
    },
    {
      "cell_type": "code",
      "source": [
        "model.evaluate(x_test)"
      ],
      "metadata": {
        "id": "zQnR-ZdF00RL"
      },
      "execution_count": null,
      "outputs": []
    },
    {
      "cell_type": "code",
      "source": [
        "loss, mse, mae = model.evaluate(x_test)\n",
        "\n",
        "print(f'Loss: {loss}')\n",
        "print(f'MSE: {mse}')\n",
        "print(f'MAE: {mae}')"
      ],
      "metadata": {
        "id": "o501JM5cyEYH"
      },
      "execution_count": null,
      "outputs": []
    },
    {
      "cell_type": "code",
      "source": [
        "valid_pred_by_model = model.predict(x_val)\n",
        "\n",
        "print(valid_pred_by_model)"
      ],
      "metadata": {
        "id": "Sz24tWB-yH3R"
      },
      "execution_count": null,
      "outputs": []
    },
    {
      "cell_type": "code",
      "source": [
        "test_pred = model.predict(x_test, verbose=1)\n",
        "print(test_pred)"
      ],
      "metadata": {
        "id": "x_AUnAlDyN3E"
      },
      "execution_count": null,
      "outputs": []
    },
    {
      "cell_type": "markdown",
      "source": [
        "#####Visualizando as curvas de aprendizagem do modelo"
      ],
      "metadata": {
        "id": "H2mKPF-7xTfT"
      }
    },
    {
      "cell_type": "markdown",
      "source": [
        "  Agora iremos visualizar as curvas de aprendizagem durante o treino e validação do nosso modelo.\n",
        "\n",
        "  As curvas são ótimos indicadores de desempenho do modelo.\n"
      ],
      "metadata": {
        "id": "HRO8Ue2exXlb"
      }
    },
    {
      "cell_type": "markdown",
      "source": [
        "#####Construção dos gráficos"
      ],
      "metadata": {
        "id": "Ud0xm99-x1Zj"
      }
    },
    {
      "cell_type": "markdown",
      "source": [
        "Para a construção dos dados será necessário pegarmos o nome das funções do nosso modelo. Isso será feito pegando as chaves do dicionário 'history'."
      ],
      "metadata": {
        "id": "qqb1ZjH9xlqs"
      }
    },
    {
      "cell_type": "code",
      "source": [
        "mse = history.history[]\n",
        "val_mse = history.history[]\n",
        "mae = history.history[]\n",
        "val_mae = history.history[]\n",
        "loss = history.history[]\n",
        "val_loss = history.history[]"
      ],
      "metadata": {
        "id": "itGH52OiyPKg"
      },
      "execution_count": null,
      "outputs": []
    },
    {
      "cell_type": "markdown",
      "source": [
        "######Loss"
      ],
      "metadata": {
        "id": "GpRIRk2MyW9V"
      }
    },
    {
      "cell_type": "code",
      "source": [
        "# r is for \"solid red line\"\n",
        "plt.plot(loss, 'r', label='Training loss')\n",
        "# b is for \"solid blue line\"\n",
        "plt.plot(val_loss, 'b', label='Validation loss')\n",
        "plt.title('Training and validation loss')\n",
        "plt.xlabel('Epochs')\n",
        "plt.ylabel('Loss')\n",
        "plt.legend()"
      ],
      "metadata": {
        "id": "7jmR_lHOx5Dq"
      },
      "execution_count": null,
      "outputs": []
    },
    {
      "cell_type": "markdown",
      "source": [
        "######MSE"
      ],
      "metadata": {
        "id": "JTjnHDO3yVmF"
      }
    },
    {
      "cell_type": "code",
      "source": [
        "plt.plot(mse, 'r', label='Training MSE')\n",
        "plt.plot(val_mse, 'b', label='Validation MSE')\n",
        "plt.title('Training and validation Mean Squared Error')\n",
        "plt.xlabel('Epochs')\n",
        "plt.ylabel('Mean Squared Error')\n",
        "plt.legend()"
      ],
      "metadata": {
        "id": "6DeCrL_-y6tx"
      },
      "execution_count": null,
      "outputs": []
    },
    {
      "cell_type": "markdown",
      "source": [
        "######MAE"
      ],
      "metadata": {
        "id": "3wg0ReLyyUJG"
      }
    },
    {
      "cell_type": "code",
      "source": [
        "plt.plot(mae, 'r', label='Training MAE')\n",
        "plt.plot(val_mae, 'b', label='Validation MAE')\n",
        "plt.title('Training and validation Mean Absolute Error')\n",
        "plt.xlabel('Epochs')\n",
        "plt.ylabel('Mean Absolute Error')\n",
        "plt.legend()"
      ],
      "metadata": {
        "id": "HqR7eLKgnzD6"
      },
      "execution_count": null,
      "outputs": []
    }
  ]
}