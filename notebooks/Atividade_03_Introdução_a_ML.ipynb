{
  "nbformat": 4,
  "nbformat_minor": 0,
  "metadata": {
    "colab": {
      "name": "Atividade 03 - Introdução a ML.ipynb",
      "provenance": [],
      "collapsed_sections": []
    },
    "kernelspec": {
      "name": "python3",
      "display_name": "Python 3"
    },
    "language_info": {
      "name": "python"
    }
  },
  "cells": [
    {
      "cell_type": "markdown",
      "source": [
        "#Capacitação Vialab # Atividade 3\n",
        "\n",
        "##Introdução a Machine Learning\n",
        "###Data de atualização: 08/02/2022\n",
        "\n",
        "#Objetivo: Entender os conceitos básicos para o desenvolvimento de um modelo neural\n"
      ],
      "metadata": {
        "id": "XaasOlJi1a6G"
      }
    },
    {
      "cell_type": "markdown",
      "source": [
        "Machine Learning, termo original em inglês, ou aprendizado de máquina, é um subcampo da ciência da computação. Evoluiu do estudo de reconhecimento de padrões e da teoria do aprendizado computacional em inteligência artificial."
      ],
      "metadata": {
        "id": "e_I1p6Cm2f10"
      }
    },
    {
      "cell_type": "markdown",
      "source": [
        "#Como Funciona?"
      ],
      "metadata": {
        "id": "8SuoU72l24-5"
      }
    },
    {
      "cell_type": "markdown",
      "source": [
        "Para aplicar o aprendizado de máquina, antes de tudo é necessário um conjunto de dados, para que estes dados sejam usados no processo de ensino e reconhecimento de padrões, sendo um dos principais quesitos, os dados são cruciais para o aprendizado"
      ],
      "metadata": {
        "id": "GwvvYd33271K"
      }
    },
    {
      "cell_type": "markdown",
      "source": [
        "Além de dados é necessário um modelo de rede neural, com neurônios artificiais, que simulam o comportamento de neurônios naturais, e tem a capacidade de se atualizar conforme o seu processo de aprendizado, assim, corrigindo erros e melhorando a precisão da rede"
      ],
      "metadata": {
        "id": "dFH939hO3Y-U"
      }
    },
    {
      "cell_type": "markdown",
      "source": [
        "O passo a passo consiste em 5 principais atividades\n",
        "\n",
        "*   Seleção e Exploração de um conjunto de dados\n",
        "*   Tratamento e Divisão dos dados\n",
        "*   Criação do modelo de machine learning\n",
        "*   Treinamento e atualização de paramêtros do modelo\n",
        "*   Teste do modelo\n",
        "\n",
        "\n",
        "\n"
      ],
      "metadata": {
        "id": "lcrpJMP533k3"
      }
    },
    {
      "cell_type": "markdown",
      "source": [
        "#Bibliotecas\n",
        "as bibliotecas são ferramentas importantes para aplicação de machine learning, basicamente se resumem em códigos(sub-prontos) e dados importantes que servem como auxílio para um desenvolvedor"
      ],
      "metadata": {
        "id": "rO_cfmYB5Ygq"
      }
    },
    {
      "cell_type": "code",
      "source": [
        "#Geralmente utilizamos algumas bibliotecas que contém ferramentas importantes\n",
        "\n",
        "#Abaixo está a importação de algumas bibliotecas amplamente utilizadas no campo do aprendizado de máquina.\n",
        "#Importação das bibliotecas\n",
        "import tensorflow as tf #biblioteca com ferramentas para o aprendizado de máquina\n",
        "from sklearn.model_selection import train_test_split, cross_val_score\n",
        "import matplotlib.pyplot as plt #Biblioteca que foi utilizada para exibir imagens, gráficos e etc\n",
        "import keras #Biblioteca para criação de redes neurais\n",
        "from keras.datasets import imdb #Conjunto de dados presente no keras\n",
        "import pandas as pd\n",
        "#Abaixo importação de ferramentas especificas do keras \n",
        "from keras.models import Sequential #Importando tipo de modelo - Sequencial\n",
        "from keras.layers import Dense, Dropout, Input, Flatten, Conv2D, MaxPooling2D #Importando tipos de camadas para rede neural nem todas serão utilizadas\n",
        "from tensorflow.keras.utils import to_categorical "
      ],
      "metadata": {
        "id": "vrvCV4Y354zR"
      },
      "execution_count": null,
      "outputs": []
    },
    {
      "cell_type": "markdown",
      "source": [
        "#Perceptrons"
      ],
      "metadata": {
        "id": "YNt676etBmDB"
      }
    },
    {
      "cell_type": "markdown",
      "source": [
        "##O que são perceptrons\n",
        "\n",
        "perceptrons são um tipo de neurônio artificial bem popular no campo de redes neurais\n",
        "\n",
        "Perceptron aprende conceitos, ele pode aprender a responder com verdadeiro (1) ou falso (0) pelas entradas que nós apresentamos a ele, “estudando\" repetidamente os exemplos que lhe são apresentados.\n"
      ],
      "metadata": {
        "id": "JR6z48nJCO5I"
      }
    },
    {
      "cell_type": "markdown",
      "source": [
        "Perceptrons faz cálculos simples e pode se atualizar de acordo com seus erros durante um processo de treinamento de acordo com uma taxa de aprendizado selecionada, comumente chamada de \"Learning rate\", geralmente são valores baixos como 0.01, para permitir um ajuste menos grosseiro do perceptron e melhorar seus resultados"
      ],
      "metadata": {
        "id": "SLpf5D4dECeP"
      }
    },
    {
      "cell_type": "markdown",
      "source": [
        "#Conjuntos de dados"
      ],
      "metadata": {
        "id": "zmiDvCYmIDJi"
      }
    },
    {
      "cell_type": "markdown",
      "source": [
        "Como citado, o aprendizado de máquina depende de um treinamento com um conjunto de dados.\n",
        "\n",
        "neste caso será utilizado como exemplo o dataset \"Wine quality\" que é um dataset que contém avaliação de vinho e ja apareceu anteriormente na capacitação"
      ],
      "metadata": {
        "id": "EqxJYyBzIIr_"
      }
    },
    {
      "cell_type": "code",
      "source": [
        "#Importação do dataset Wine quality red \n",
        "Wine_quality_red = pd.read_csv('https://archive.ics.uci.edu/ml/machine-learning-databases/wine-quality/winequality-red.csv', sep=';')\n",
        "Wine_quality_red.head(10)"
      ],
      "metadata": {
        "id": "8lPKLw2vBlxE",
        "colab": {
          "base_uri": "https://localhost:8080/",
          "height": 363
        },
        "outputId": "1e561144-d3cb-4c4a-b59e-c0a3493d976c"
      },
      "execution_count": null,
      "outputs": [
        {
          "output_type": "execute_result",
          "data": {
            "text/html": [
              "\n",
              "  <div id=\"df-09f6cda7-92e2-4842-ae7d-8a4252fffa6f\">\n",
              "    <div class=\"colab-df-container\">\n",
              "      <div>\n",
              "<style scoped>\n",
              "    .dataframe tbody tr th:only-of-type {\n",
              "        vertical-align: middle;\n",
              "    }\n",
              "\n",
              "    .dataframe tbody tr th {\n",
              "        vertical-align: top;\n",
              "    }\n",
              "\n",
              "    .dataframe thead th {\n",
              "        text-align: right;\n",
              "    }\n",
              "</style>\n",
              "<table border=\"1\" class=\"dataframe\">\n",
              "  <thead>\n",
              "    <tr style=\"text-align: right;\">\n",
              "      <th></th>\n",
              "      <th>fixed acidity</th>\n",
              "      <th>volatile acidity</th>\n",
              "      <th>citric acid</th>\n",
              "      <th>residual sugar</th>\n",
              "      <th>chlorides</th>\n",
              "      <th>free sulfur dioxide</th>\n",
              "      <th>total sulfur dioxide</th>\n",
              "      <th>density</th>\n",
              "      <th>pH</th>\n",
              "      <th>sulphates</th>\n",
              "      <th>alcohol</th>\n",
              "      <th>quality</th>\n",
              "    </tr>\n",
              "  </thead>\n",
              "  <tbody>\n",
              "    <tr>\n",
              "      <th>0</th>\n",
              "      <td>7.4</td>\n",
              "      <td>0.70</td>\n",
              "      <td>0.00</td>\n",
              "      <td>1.9</td>\n",
              "      <td>0.076</td>\n",
              "      <td>11.0</td>\n",
              "      <td>34.0</td>\n",
              "      <td>0.9978</td>\n",
              "      <td>3.51</td>\n",
              "      <td>0.56</td>\n",
              "      <td>9.4</td>\n",
              "      <td>5</td>\n",
              "    </tr>\n",
              "    <tr>\n",
              "      <th>1</th>\n",
              "      <td>7.8</td>\n",
              "      <td>0.88</td>\n",
              "      <td>0.00</td>\n",
              "      <td>2.6</td>\n",
              "      <td>0.098</td>\n",
              "      <td>25.0</td>\n",
              "      <td>67.0</td>\n",
              "      <td>0.9968</td>\n",
              "      <td>3.20</td>\n",
              "      <td>0.68</td>\n",
              "      <td>9.8</td>\n",
              "      <td>5</td>\n",
              "    </tr>\n",
              "    <tr>\n",
              "      <th>2</th>\n",
              "      <td>7.8</td>\n",
              "      <td>0.76</td>\n",
              "      <td>0.04</td>\n",
              "      <td>2.3</td>\n",
              "      <td>0.092</td>\n",
              "      <td>15.0</td>\n",
              "      <td>54.0</td>\n",
              "      <td>0.9970</td>\n",
              "      <td>3.26</td>\n",
              "      <td>0.65</td>\n",
              "      <td>9.8</td>\n",
              "      <td>5</td>\n",
              "    </tr>\n",
              "    <tr>\n",
              "      <th>3</th>\n",
              "      <td>11.2</td>\n",
              "      <td>0.28</td>\n",
              "      <td>0.56</td>\n",
              "      <td>1.9</td>\n",
              "      <td>0.075</td>\n",
              "      <td>17.0</td>\n",
              "      <td>60.0</td>\n",
              "      <td>0.9980</td>\n",
              "      <td>3.16</td>\n",
              "      <td>0.58</td>\n",
              "      <td>9.8</td>\n",
              "      <td>6</td>\n",
              "    </tr>\n",
              "    <tr>\n",
              "      <th>4</th>\n",
              "      <td>7.4</td>\n",
              "      <td>0.70</td>\n",
              "      <td>0.00</td>\n",
              "      <td>1.9</td>\n",
              "      <td>0.076</td>\n",
              "      <td>11.0</td>\n",
              "      <td>34.0</td>\n",
              "      <td>0.9978</td>\n",
              "      <td>3.51</td>\n",
              "      <td>0.56</td>\n",
              "      <td>9.4</td>\n",
              "      <td>5</td>\n",
              "    </tr>\n",
              "    <tr>\n",
              "      <th>5</th>\n",
              "      <td>7.4</td>\n",
              "      <td>0.66</td>\n",
              "      <td>0.00</td>\n",
              "      <td>1.8</td>\n",
              "      <td>0.075</td>\n",
              "      <td>13.0</td>\n",
              "      <td>40.0</td>\n",
              "      <td>0.9978</td>\n",
              "      <td>3.51</td>\n",
              "      <td>0.56</td>\n",
              "      <td>9.4</td>\n",
              "      <td>5</td>\n",
              "    </tr>\n",
              "    <tr>\n",
              "      <th>6</th>\n",
              "      <td>7.9</td>\n",
              "      <td>0.60</td>\n",
              "      <td>0.06</td>\n",
              "      <td>1.6</td>\n",
              "      <td>0.069</td>\n",
              "      <td>15.0</td>\n",
              "      <td>59.0</td>\n",
              "      <td>0.9964</td>\n",
              "      <td>3.30</td>\n",
              "      <td>0.46</td>\n",
              "      <td>9.4</td>\n",
              "      <td>5</td>\n",
              "    </tr>\n",
              "    <tr>\n",
              "      <th>7</th>\n",
              "      <td>7.3</td>\n",
              "      <td>0.65</td>\n",
              "      <td>0.00</td>\n",
              "      <td>1.2</td>\n",
              "      <td>0.065</td>\n",
              "      <td>15.0</td>\n",
              "      <td>21.0</td>\n",
              "      <td>0.9946</td>\n",
              "      <td>3.39</td>\n",
              "      <td>0.47</td>\n",
              "      <td>10.0</td>\n",
              "      <td>7</td>\n",
              "    </tr>\n",
              "    <tr>\n",
              "      <th>8</th>\n",
              "      <td>7.8</td>\n",
              "      <td>0.58</td>\n",
              "      <td>0.02</td>\n",
              "      <td>2.0</td>\n",
              "      <td>0.073</td>\n",
              "      <td>9.0</td>\n",
              "      <td>18.0</td>\n",
              "      <td>0.9968</td>\n",
              "      <td>3.36</td>\n",
              "      <td>0.57</td>\n",
              "      <td>9.5</td>\n",
              "      <td>7</td>\n",
              "    </tr>\n",
              "    <tr>\n",
              "      <th>9</th>\n",
              "      <td>7.5</td>\n",
              "      <td>0.50</td>\n",
              "      <td>0.36</td>\n",
              "      <td>6.1</td>\n",
              "      <td>0.071</td>\n",
              "      <td>17.0</td>\n",
              "      <td>102.0</td>\n",
              "      <td>0.9978</td>\n",
              "      <td>3.35</td>\n",
              "      <td>0.80</td>\n",
              "      <td>10.5</td>\n",
              "      <td>5</td>\n",
              "    </tr>\n",
              "  </tbody>\n",
              "</table>\n",
              "</div>\n",
              "      <button class=\"colab-df-convert\" onclick=\"convertToInteractive('df-09f6cda7-92e2-4842-ae7d-8a4252fffa6f')\"\n",
              "              title=\"Convert this dataframe to an interactive table.\"\n",
              "              style=\"display:none;\">\n",
              "        \n",
              "  <svg xmlns=\"http://www.w3.org/2000/svg\" height=\"24px\"viewBox=\"0 0 24 24\"\n",
              "       width=\"24px\">\n",
              "    <path d=\"M0 0h24v24H0V0z\" fill=\"none\"/>\n",
              "    <path d=\"M18.56 5.44l.94 2.06.94-2.06 2.06-.94-2.06-.94-.94-2.06-.94 2.06-2.06.94zm-11 1L8.5 8.5l.94-2.06 2.06-.94-2.06-.94L8.5 2.5l-.94 2.06-2.06.94zm10 10l.94 2.06.94-2.06 2.06-.94-2.06-.94-.94-2.06-.94 2.06-2.06.94z\"/><path d=\"M17.41 7.96l-1.37-1.37c-.4-.4-.92-.59-1.43-.59-.52 0-1.04.2-1.43.59L10.3 9.45l-7.72 7.72c-.78.78-.78 2.05 0 2.83L4 21.41c.39.39.9.59 1.41.59.51 0 1.02-.2 1.41-.59l7.78-7.78 2.81-2.81c.8-.78.8-2.07 0-2.86zM5.41 20L4 18.59l7.72-7.72 1.47 1.35L5.41 20z\"/>\n",
              "  </svg>\n",
              "      </button>\n",
              "      \n",
              "  <style>\n",
              "    .colab-df-container {\n",
              "      display:flex;\n",
              "      flex-wrap:wrap;\n",
              "      gap: 12px;\n",
              "    }\n",
              "\n",
              "    .colab-df-convert {\n",
              "      background-color: #E8F0FE;\n",
              "      border: none;\n",
              "      border-radius: 50%;\n",
              "      cursor: pointer;\n",
              "      display: none;\n",
              "      fill: #1967D2;\n",
              "      height: 32px;\n",
              "      padding: 0 0 0 0;\n",
              "      width: 32px;\n",
              "    }\n",
              "\n",
              "    .colab-df-convert:hover {\n",
              "      background-color: #E2EBFA;\n",
              "      box-shadow: 0px 1px 2px rgba(60, 64, 67, 0.3), 0px 1px 3px 1px rgba(60, 64, 67, 0.15);\n",
              "      fill: #174EA6;\n",
              "    }\n",
              "\n",
              "    [theme=dark] .colab-df-convert {\n",
              "      background-color: #3B4455;\n",
              "      fill: #D2E3FC;\n",
              "    }\n",
              "\n",
              "    [theme=dark] .colab-df-convert:hover {\n",
              "      background-color: #434B5C;\n",
              "      box-shadow: 0px 1px 3px 1px rgba(0, 0, 0, 0.15);\n",
              "      filter: drop-shadow(0px 1px 2px rgba(0, 0, 0, 0.3));\n",
              "      fill: #FFFFFF;\n",
              "    }\n",
              "  </style>\n",
              "\n",
              "      <script>\n",
              "        const buttonEl =\n",
              "          document.querySelector('#df-09f6cda7-92e2-4842-ae7d-8a4252fffa6f button.colab-df-convert');\n",
              "        buttonEl.style.display =\n",
              "          google.colab.kernel.accessAllowed ? 'block' : 'none';\n",
              "\n",
              "        async function convertToInteractive(key) {\n",
              "          const element = document.querySelector('#df-09f6cda7-92e2-4842-ae7d-8a4252fffa6f');\n",
              "          const dataTable =\n",
              "            await google.colab.kernel.invokeFunction('convertToInteractive',\n",
              "                                                     [key], {});\n",
              "          if (!dataTable) return;\n",
              "\n",
              "          const docLinkHtml = 'Like what you see? Visit the ' +\n",
              "            '<a target=\"_blank\" href=https://colab.research.google.com/notebooks/data_table.ipynb>data table notebook</a>'\n",
              "            + ' to learn more about interactive tables.';\n",
              "          element.innerHTML = '';\n",
              "          dataTable['output_type'] = 'display_data';\n",
              "          await google.colab.output.renderOutput(dataTable, element);\n",
              "          const docLink = document.createElement('div');\n",
              "          docLink.innerHTML = docLinkHtml;\n",
              "          element.appendChild(docLink);\n",
              "        }\n",
              "      </script>\n",
              "    </div>\n",
              "  </div>\n",
              "  "
            ],
            "text/plain": [
              "   fixed acidity  volatile acidity  citric acid  ...  sulphates  alcohol  quality\n",
              "0            7.4              0.70         0.00  ...       0.56      9.4        5\n",
              "1            7.8              0.88         0.00  ...       0.68      9.8        5\n",
              "2            7.8              0.76         0.04  ...       0.65      9.8        5\n",
              "3           11.2              0.28         0.56  ...       0.58      9.8        6\n",
              "4            7.4              0.70         0.00  ...       0.56      9.4        5\n",
              "5            7.4              0.66         0.00  ...       0.56      9.4        5\n",
              "6            7.9              0.60         0.06  ...       0.46      9.4        5\n",
              "7            7.3              0.65         0.00  ...       0.47     10.0        7\n",
              "8            7.8              0.58         0.02  ...       0.57      9.5        7\n",
              "9            7.5              0.50         0.36  ...       0.80     10.5        5\n",
              "\n",
              "[10 rows x 12 columns]"
            ]
          },
          "metadata": {},
          "execution_count": 4
        }
      ]
    },
    {
      "cell_type": "markdown",
      "source": [
        "# Por que dividir os dados?\n",
        "\n",
        "Quando trabalhamos com ML é necessário realizar a divisão dos dados para poder avaliar a performance do modelo, sendo uma técnica usada tanto para problemas de classificação quanto de regressão.\n",
        "\n",
        "Deste modo, podemos dividir os dados em 3 partes:\n",
        "\n",
        "* Dados de treino: É o conjunto de dados usado para treinar e fazer o modelo aprender os recursos/padrões ocultos nos dados.\n",
        "\n",
        "* Dados de validação: O conjunto de validação é um conjunto de dados, separado do conjunto de treinamento, que é usado para validar o desempenho do nosso modelo durante o treinamento.\n",
        "\n",
        "* Dados de teste: O conjunto de teste é um conjunto separado de dados usado para testar o modelo após a conclusão do treinamento.\n",
        "\n",
        "Analogamente, pode ser comparado deste modo:\n",
        "\n",
        "* Dados de treinamento = Ensino em sala de aula\n",
        "\n",
        "* Dados de validação = Problemas de prática \n",
        "\n",
        "* Dados de teste = perguntas do exame\n"
      ],
      "metadata": {
        "id": "FwkP7YNsXLrl"
      }
    },
    {
      "cell_type": "markdown",
      "source": [
        "Os dados são tratados para machine learning geralmente como X e Y, onde X é o conjunto de dados sem a variável de interesse e Y é apenas a variável de interesse"
      ],
      "metadata": {
        "id": "-td9PhEM4C63"
      }
    },
    {
      "cell_type": "markdown",
      "source": [
        "#Atividade\n",
        "Nesta atividade os objetivos são;\n",
        "\n",
        "- Dividir o dataset em conjunto de treino e de teste, sendo utilizado 30% dos dados para teste e 70% para o treino\n",
        "\n",
        "- Separar o X e Y de treino e o X e Y de teste\n",
        "\n",
        "\n",
        "Extra:\n",
        "-Pesquisar sobre normalização de dataset\n",
        "\n"
      ],
      "metadata": {
        "id": "H1g4qiJ35-1a"
      }
    },
    {
      "cell_type": "code",
      "source": [
        ""
      ],
      "metadata": {
        "id": "wIOH1tXP6mfu"
      },
      "execution_count": null,
      "outputs": []
    }
  ]
}